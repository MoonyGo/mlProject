{
 "cells": [
  {
   "cell_type": "code",
   "execution_count": 2,
   "metadata": {
    "collapsed": false
   },
   "outputs": [],
   "source": [
    "import tensorflow as tf\n",
    "import numpy as np\n",
    "from tensorflow.examples.tutorials.mnist import input_data\n",
    "\n"
   ]
  },
  {
   "cell_type": "code",
   "execution_count": 3,
   "metadata": {
    "collapsed": false
   },
   "outputs": [
    {
     "name": "stdout",
     "output_type": "stream",
     "text": [
      "Extracting MNIST_data\\train-images-idx3-ubyte.gz\n",
      "Extracting MNIST_data\\train-labels-idx1-ubyte.gz\n",
      "Extracting MNIST_data\\t10k-images-idx3-ubyte.gz\n",
      "Extracting MNIST_data\\t10k-labels-idx1-ubyte.gz\n"
     ]
    }
   ],
   "source": [
    "mnist = input_data.read_data_sets('MNIST_data', one_hot=True)\n",
    "\n",
    "x = tf.placeholder(\"float\", shape=[None, 784])\n",
    "y_ = tf.placeholder(\"float\", shape=[None, 10])\n",
    "\n",
    "x_image = tf.reshape(x, [-1, 28, 28, 1])\n",
    "\n",
    "\n",
    "def weight_variable(shape):\n",
    "    initial = tf.truncated_normal(shape, stddev=0.1)\n",
    "    return tf.Variable(initial)\n",
    "\n",
    "\n",
    "def bias_variable(shape):\n",
    "    initial = tf.constant(0.1, shape=shape)\n",
    "    return tf.Variable(initial)\n",
    "\n",
    "\n",
    "def conv2d(x, W):\n",
    "    return tf.nn.conv2d(x, W, strides=[1, 1, 1, 1], padding='SAME')\n",
    "\n",
    "\n"
   ]
  },
  {
   "cell_type": "code",
   "execution_count": 4,
   "metadata": {
    "collapsed": true
   },
   "outputs": [],
   "source": [
    "def max_pool_2x2(x):\n",
    "    return tf.nn.max_pool(x, ksize=[1, 2, 2, 1],\n",
    "                          strides=[1, 2, 2, 1], padding='SAME')\n",
    "\n",
    "\n",
    "W_conv1 = weight_variable([5, 5, 1, 32])\n",
    "b_conv1 = bias_variable([32])\n",
    "\n",
    "h_conv1 = tf.nn.relu(conv2d(x_image, W_conv1) + b_conv1)\n",
    "h_pool1 = max_pool_2x2(h_conv1)\n",
    "\n",
    "W_conv2 = weight_variable([5, 5, 32, 64])\n",
    "b_conv2 = bias_variable([64])\n",
    "\n",
    "h_conv2 = tf.nn.relu(conv2d(h_pool1, W_conv2) + b_conv2)\n",
    "h_pool2 = max_pool_2x2(h_conv2)\n",
    "\n",
    "W_fc1 = weight_variable([7 * 7 * 64, 1024])\n",
    "b_fc1 = bias_variable([1024])\n",
    "\n",
    "h_pool2_flat = tf.reshape(h_pool2, [-1, 7 * 7 * 64])\n",
    "h_fc1 = tf.nn.relu(tf.matmul(h_pool2_flat, W_fc1) + b_fc1)\n",
    "\n",
    "keep_prob = tf.placeholder(\"float\")\n",
    "h_fc1_drop = tf.nn.dropout(h_fc1, keep_prob)\n",
    "\n",
    "W_fc2 = weight_variable([1024, 10])\n",
    "b_fc2 = bias_variable([10])\n",
    "\n",
    "y_conv = tf.nn.softmax(tf.matmul(h_fc1_drop, W_fc2) + b_fc2)\n",
    "\n"
   ]
  },
  {
   "cell_type": "code",
   "execution_count": 5,
   "metadata": {
    "collapsed": true
   },
   "outputs": [],
   "source": [
    "cross_entropy = -tf.reduce_sum(y_ * tf.log(y_conv))\n",
    "train_step = tf.train.AdamOptimizer(1e-4).minimize(cross_entropy)\n",
    "correct_prediction = tf.equal(tf.argmax(y_conv, 1), tf.argmax(y_, 1))\n",
    "accuracy = tf.reduce_mean(tf.cast(correct_prediction, \"float\"))\n",
    "\n",
    "sess = tf.Session()\n",
    "sess.run(tf.global_variables_initializer())\n",
    "\n"
   ]
  },
  {
   "cell_type": "code",
   "execution_count": 8,
   "metadata": {
    "collapsed": false
   },
   "outputs": [
    {
     "name": "stdout",
     "output_type": "stream",
     "text": [
      "Step 0 - Train accuracy 0.960\n",
      "Step 10 - Train accuracy 0.960\n",
      "Step 20 - Train accuracy 0.880\n",
      "Step 30 - Train accuracy 0.900\n",
      "Step 40 - Train accuracy 0.940\n",
      "Step 50 - Train accuracy 0.980\n",
      "Step 60 - Train accuracy 0.940\n",
      "Step 70 - Train accuracy 0.900\n",
      "Step 80 - Train accuracy 0.960\n",
      "Step 90 - Train accuracy 0.840\n",
      "Step 100 - Train accuracy 0.940\n",
      "Step 110 - Train accuracy 0.960\n",
      "Step 120 - Train accuracy 0.960\n",
      "Step 130 - Train accuracy 0.960\n",
      "Step 140 - Train accuracy 0.880\n",
      "Step 150 - Train accuracy 0.920\n",
      "Step 160 - Train accuracy 0.840\n",
      "Step 170 - Train accuracy 0.920\n",
      "Step 180 - Train accuracy 0.980\n",
      "Step 190 - Train accuracy 0.940\n",
      "Step 200 - Train accuracy 0.940\n",
      "Step 210 - Train accuracy 0.860\n",
      "Step 220 - Train accuracy 0.980\n",
      "Step 230 - Train accuracy 0.920\n",
      "Step 240 - Train accuracy 0.980\n",
      "Step 250 - Train accuracy 0.920\n",
      "Step 260 - Train accuracy 0.980\n",
      "Step 270 - Train accuracy 0.960\n",
      "Step 280 - Train accuracy 0.960\n",
      "Step 290 - Train accuracy 0.960\n",
      "Step 300 - Train accuracy 0.960\n",
      "Step 310 - Train accuracy 0.900\n",
      "Step 320 - Train accuracy 0.920\n",
      "Step 330 - Train accuracy 0.940\n",
      "Step 340 - Train accuracy 0.900\n",
      "Step 350 - Train accuracy 0.940\n",
      "Step 360 - Train accuracy 0.920\n",
      "Step 370 - Train accuracy 0.940\n",
      "Step 380 - Train accuracy 0.960\n",
      "Step 390 - Train accuracy 0.880\n",
      "Step 400 - Train accuracy 0.940\n",
      "Step 410 - Train accuracy 0.920\n",
      "Step 420 - Train accuracy 0.940\n",
      "Step 430 - Train accuracy 0.960\n",
      "Step 440 - Train accuracy 0.940\n",
      "Step 450 - Train accuracy 0.980\n",
      "Step 460 - Train accuracy 0.980\n",
      "Step 470 - Train accuracy 0.940\n",
      "Step 480 - Train accuracy 0.920\n",
      "Step 490 - Train accuracy 0.960\n",
      "Step 500 - Train accuracy 0.960\n",
      "Step 510 - Train accuracy 0.940\n",
      "Step 520 - Train accuracy 0.920\n",
      "Step 530 - Train accuracy 0.880\n",
      "Step 540 - Train accuracy 0.960\n",
      "Step 550 - Train accuracy 1.000\n",
      "Step 560 - Train accuracy 0.960\n",
      "Step 570 - Train accuracy 0.980\n",
      "Step 580 - Train accuracy 0.980\n",
      "Step 590 - Train accuracy 0.960\n",
      "Step 600 - Train accuracy 0.920\n",
      "Step 610 - Train accuracy 1.000\n",
      "Step 620 - Train accuracy 0.980\n",
      "Step 630 - Train accuracy 0.940\n",
      "Step 640 - Train accuracy 0.980\n",
      "Step 650 - Train accuracy 0.980\n",
      "Step 660 - Train accuracy 0.940\n",
      "Step 670 - Train accuracy 1.000\n",
      "Step 680 - Train accuracy 0.980\n",
      "Step 690 - Train accuracy 1.000\n",
      "Step 700 - Train accuracy 0.960\n",
      "Step 710 - Train accuracy 0.920\n",
      "Step 720 - Train accuracy 0.980\n",
      "Step 730 - Train accuracy 0.960\n",
      "Step 740 - Train accuracy 0.940\n",
      "Step 750 - Train accuracy 1.000\n",
      "Step 760 - Train accuracy 0.980\n",
      "Step 770 - Train accuracy 1.000\n",
      "Step 780 - Train accuracy 1.000\n",
      "Step 790 - Train accuracy 0.980\n",
      "Step 800 - Train accuracy 0.940\n",
      "Step 810 - Train accuracy 0.980\n",
      "Step 820 - Train accuracy 0.980\n",
      "Step 830 - Train accuracy 0.940\n",
      "Step 840 - Train accuracy 0.960\n",
      "Step 850 - Train accuracy 0.980\n",
      "Step 860 - Train accuracy 0.960\n",
      "Step 870 - Train accuracy 0.940\n",
      "Step 880 - Train accuracy 0.940\n",
      "Step 890 - Train accuracy 0.940\n",
      "Step 900 - Train accuracy 0.900\n",
      "Step 910 - Train accuracy 0.960\n",
      "Step 920 - Train accuracy 1.000\n",
      "Step 930 - Train accuracy 0.960\n",
      "Step 940 - Train accuracy 0.960\n",
      "Step 950 - Train accuracy 1.000\n",
      "Step 960 - Train accuracy 0.960\n",
      "Step 970 - Train accuracy 0.980\n",
      "Step 980 - Train accuracy 1.000\n",
      "Step 990 - Train accuracy 0.980\n",
      "Test accuracy 0.969\n"
     ]
    }
   ],
   "source": [
    "for i in range(1000):\n",
    "    batch_xs, batch_ys = mnist.train.next_batch(50)\n",
    "    sess.run(train_step, feed_dict={x: batch_xs, y_: batch_ys, keep_prob: 0.5})\n",
    "    if i % 10 == 0:\n",
    "        train_accuracy = sess.run(accuracy, feed_dict={x: batch_xs, y_: batch_ys, keep_prob: 1.0})\n",
    "        print(\"Step %d - Train accuracy %.3f\" % (i, train_accuracy))\n",
    "\n",
    "test_accuracy = sess.run(accuracy, feed_dict={x: mnist.test.images, y_: mnist.test.labels, keep_prob: 1.0})\n",
    "print(\"Test accuracy %.3f\" % test_accuracy)\n"
   ]
  },
  {
   "cell_type": "code",
   "execution_count": null,
   "metadata": {
    "collapsed": true
   },
   "outputs": [],
   "source": []
  },
  {
   "cell_type": "code",
   "execution_count": null,
   "metadata": {
    "collapsed": true
   },
   "outputs": [],
   "source": []
  }
 ],
 "metadata": {
  "kernelspec": {
   "display_name": "Python 3",
   "language": "python",
   "name": "python3"
  },
  "language_info": {
   "codemirror_mode": {
    "name": "ipython",
    "version": 3
   },
   "file_extension": ".py",
   "mimetype": "text/x-python",
   "name": "python",
   "nbconvert_exporter": "python",
   "pygments_lexer": "ipython3",
   "version": "3.6.0"
  }
 },
 "nbformat": 4,
 "nbformat_minor": 2
}
